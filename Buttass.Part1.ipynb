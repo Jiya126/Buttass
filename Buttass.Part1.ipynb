{
 "cells": [
  {
   "cell_type": "code",
   "execution_count": 1,
   "id": "9872e8ab",
   "metadata": {},
   "outputs": [],
   "source": [
    "import numpy as np"
   ]
  },
  {
   "cell_type": "code",
   "execution_count": 2,
   "id": "d9819c37",
   "metadata": {},
   "outputs": [],
   "source": [
    "import pandas as pd"
   ]
  },
  {
   "cell_type": "code",
   "execution_count": 3,
   "id": "4c622984",
   "metadata": {},
   "outputs": [],
   "source": [
    "# Create an empty list to store the bills\n",
    "bills = []"
   ]
  },
  {
   "cell_type": "code",
   "execution_count": 4,
   "id": "39d84405",
   "metadata": {},
   "outputs": [],
   "source": [
    "# Create a function to save a bill and extract its features\n",
    "def save_bill(bill):\n",
    "    # Extract the barcode, SKU code, product image and price from the bill\n",
    "  barcode = bill.get_barcode()\n",
    "  sku_code = bill.get_sku_code()\n",
    "  product_image = bill.get_product_image()\n",
    "  price = bill.get_price()\n",
    "    # Create a dictionary with the bill data\n",
    "  data = {'Bar Code': barcode, 'SKU Code': sku_code, 'Product Image' : product_image, 'Price': price}\n",
    "    # Add the dictionary to the list of bills\n",
    "  bills.append(data)"
   ]
  },
  {
   "cell_type": "code",
   "execution_count": 5,
   "id": "835257c2",
   "metadata": {},
   "outputs": [],
   "source": [
    "class Bill:\n",
    "  def __init__(self, barcode, sku_code, product_image, price):\n",
    "    self.barcode = barcode\n",
    "    self.sku_code = sku_code\n",
    "    self.product_image = product_image\n",
    "    self.price = price\n",
    "\n",
    "  def get_barcode(self):\n",
    "    return self.barcode\n",
    "\n",
    "  def get_sku_code(self):\n",
    "    return self.sku_code\n",
    "\n",
    "  def get_product_image(self):\n",
    "    return self.product_image\n",
    "\n",
    "  def get_price(self):\n",
    "    return self.price\n",
    "\n",
    "# Save some bills\n",
    "bill1 = Bill(barcode='12345', sku_code='A1', product_image='image1.jpg', price=100)\n",
    "save_bill(bill1)\n",
    "\n",
    "bill2 = Bill(barcode='23456', sku_code='A2', product_image='image2.jpg', price=200)\n",
    "save_bill(bill2)\n",
    "\n",
    "bill3 = Bill(barcode='34567', sku_code='B1', product_image='image3.jpg', price=150)\n",
    "save_bill(bill3)"
   ]
  },
  {
   "cell_type": "code",
   "execution_count": 6,
   "id": "d6726149",
   "metadata": {},
   "outputs": [],
   "source": [
    "# Create a DataFrame from the list of bills\n",
    "df = pd.DataFrame(bills)"
   ]
  },
  {
   "cell_type": "code",
   "execution_count": 7,
   "id": "d13cb1cc",
   "metadata": {},
   "outputs": [
    {
     "name": "stdout",
     "output_type": "stream",
     "text": [
      "  Bar Code SKU Code Product Image  Price\n",
      "0    12345       A1    image1.jpg    100\n",
      "1    23456       A2    image2.jpg    200\n",
      "2    34567       B1    image3.jpg    150\n"
     ]
    }
   ],
   "source": [
    "# Print the DataFrame\n",
    "print(df)"
   ]
  },
  {
   "cell_type": "code",
   "execution_count": null,
   "id": "a3ccee54",
   "metadata": {},
   "outputs": [],
   "source": []
  }
 ],
 "metadata": {
  "kernelspec": {
   "display_name": "Python 3 (ipykernel)",
   "language": "python",
   "name": "python3"
  },
  "language_info": {
   "codemirror_mode": {
    "name": "ipython",
    "version": 3
   },
   "file_extension": ".py",
   "mimetype": "text/x-python",
   "name": "python",
   "nbconvert_exporter": "python",
   "pygments_lexer": "ipython3",
   "version": "3.9.7"
  }
 },
 "nbformat": 4,
 "nbformat_minor": 5
}
